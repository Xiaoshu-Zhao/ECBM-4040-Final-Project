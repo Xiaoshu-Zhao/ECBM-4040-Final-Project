{
 "cells": [
  {
   "cell_type": "code",
   "execution_count": null,
   "id": "dcaa210f",
   "metadata": {},
   "outputs": [],
   "source": [
    "import os\n",
    "from os import listdir, makedirs\n",
    "from os.path import join, isfile, isdir, splitext\n",
    "from PIL import Image\n",
    "import skimage.color as color\n",
    "import numpy as np\n",
    "import matplotlib.pyplot as plt\n",
    "import pandas as pd\n",
    "import tensorflow as tf"
   ]
  },
  {
   "cell_type": "markdown",
   "id": "66be996f",
   "metadata": {},
   "source": [
    "# ILSVRC Data"
   ]
  },
  {
   "cell_type": "code",
   "execution_count": null,
   "id": "2a33ee4e",
   "metadata": {},
   "outputs": [],
   "source": [
    "images_path = './Dataset/ILSVRC2014_train'\n",
    "filename='ILSVRC2014_train_00000001.JPEG'"
   ]
  },
  {
   "cell_type": "code",
   "execution_count": null,
   "id": "5801c064",
   "metadata": {},
   "outputs": [],
   "source": [
    "img=Image.open(join(images_path,filename))\n",
    "f=plt.figure()\n",
    "f.add_subplot(1,2,1)\n",
    "plt.imshow(img)\n",
    "img=img.resize((299,299))\n",
    "f.add_subplot(1,2,2)\n",
    "plt.imshow(img)\n",
    "plt.show()"
   ]
  },
  {
   "cell_type": "markdown",
   "id": "d1bde062",
   "metadata": {},
   "source": [
    "# Resize all Images to 299x299"
   ]
  },
  {
   "cell_type": "code",
   "execution_count": null,
   "id": "324942e4",
   "metadata": {},
   "outputs": [],
   "source": [
    "from utils.resize import ImageResizer\n",
    "images_path = './Dataset/ILSVRC2014_train'\n",
    "print(f'{images_path}')\n",
    "resized_dir='./Dataset/resized'\n",
    "size=(299,299)\n",
    "resizer=ImageResizer(source_dir=images_path,\n",
    "                    dest_dir=resized_dir).resize_all(size=size)"
   ]
  },
  {
   "cell_type": "markdown",
   "id": "32af573c",
   "metadata": {},
   "source": [
    "# Save and load image list"
   ]
  },
  {
   "cell_type": "code",
   "execution_count": null,
   "id": "6bd95b7d",
   "metadata": {},
   "outputs": [],
   "source": [
    "import os\n",
    "\n",
    "a = open(\"./Dataset/listjpeg.txt\", \"w\")\n",
    "for path, subdirs, files in os.walk(r'./Dataset/resized'):\n",
    "    for filename in files:\n",
    "        f = os.path.join(filename)\n",
    "        a.write(str(f) + '\\n') "
   ]
  },
  {
   "cell_type": "markdown",
   "id": "ce0221b8",
   "metadata": {},
   "source": [
    "# Convert to Incep-Resnet-v2 records"
   ]
  },
  {
   "cell_type": "code",
   "execution_count": null,
   "id": "4d244186",
   "metadata": {},
   "outputs": [],
   "source": [
    "from tensorflow.python.client import device_lib \n",
    "print(device_lib.list_local_devices())"
   ]
  },
  {
   "cell_type": "code",
   "execution_count": null,
   "id": "44c0b4f8",
   "metadata": {},
   "outputs": [],
   "source": [
    "from utils.prep import prep_for_inception, RGB_to_lab\n",
    "resized_dir='./Dataset/resized'\n",
    "train1=join(resized_dir,'ILSVRC2014_train_00000002.JPEG')\n",
    "img1=Image.open(train1)\n",
    "f=plt.figure(figsize=(10,10))\n",
    "f.add_subplot(1,5,1)\n",
    "plt.imshow(img1)\n",
    "incep_img=prep_for_inception(np.asarray(img1))\n",
    "f.add_subplot(1,5,2)\n",
    "plt.imshow(incep_img[0])\n",
    "l_img,ab_img=RGB_to_lab(np.asarray(img1))\n",
    "f.add_subplot(1,5,3)\n",
    "plt.imshow(l_img[0],cmap='gray')\n",
    "f.add_subplot(1,5,4)\n",
    "plt.imshow(ab_img[0,:,:,0],cmap='gray')\n",
    "f.add_subplot(1,5,5)\n",
    "plt.imshow(ab_img[0,:,:,1],cmap='gray')"
   ]
  },
  {
   "cell_type": "code",
   "execution_count": null,
   "id": "5eb785a1",
   "metadata": {},
   "outputs": [],
   "source": [
    "from utils.tfrecord_writer import tfrecordwriter\n",
    "img_list = './Dataset/listjpeg.txt'\n",
    "resized_dir = './Dataset/resized' \n",
    "record_path = './tfrecords/'\n",
    "file_name = 'ILSVRC2014.tfrecords'\n",
    "tfrecordwriter(resized_dir, img_list, record_path, file_name)"
   ]
  },
  {
   "cell_type": "markdown",
   "id": "c3075fe8",
   "metadata": {},
   "source": [
    "# Read From tfrecord"
   ]
  },
  {
   "cell_type": "code",
   "execution_count": null,
   "id": "1c774cba",
   "metadata": {},
   "outputs": [],
   "source": [
    "from utils.tfrecord_reader import batch_reader\n",
    "record_path = './tfrecords/'\n",
    "record_file = 'ILSVRC2014.tfrecords'\n",
    "batch_size = 1\n",
    "train_batch_generator = batch_reader(batch_size, record_path, record_file)"
   ]
  },
  {
   "cell_type": "code",
   "execution_count": null,
   "id": "fbc8db72",
   "metadata": {},
   "outputs": [],
   "source": [
    "train_batch=next(train_batch_generator)\n",
    "test_l, test_emb=train_batch[0]\n",
    "test_ab=train_batch[1]\n",
    "test_truth=tf.concat([test_l*100,test_ab*127], 3)\n",
    "test_truth=color.lab2rgb(test_truth)"
   ]
  },
  {
   "cell_type": "code",
   "execution_count": null,
   "id": "bbe1bde7",
   "metadata": {},
   "outputs": [],
   "source": [
    "f=plt.figure()\n",
    "f.add_subplot(1,2,1)\n",
    "plt.imshow(test_l[0],cmap='gray')\n",
    "f.add_subplot(1,2,2)\n",
    "plt.imshow(test_truth[0])\n",
    "plt.show()"
   ]
  },
  {
   "cell_type": "markdown",
   "id": "d03f3ad6",
   "metadata": {},
   "source": [
    "# Train model"
   ]
  },
  {
   "cell_type": "code",
   "execution_count": null,
   "id": "c9e44353",
   "metadata": {},
   "outputs": [],
   "source": [
    "from utils.tfrecord_reader import batch_reader\n",
    "record_path = './tfrecords/'\n",
    "record_file = 'ILSVRC2014.tfrecords'\n",
    "batch_size = 100\n",
    "train_batch_generator=batch_reader(batch_size, record_path, record_file)"
   ]
  },
  {
   "cell_type": "code",
   "execution_count": null,
   "id": "b5c229ed",
   "metadata": {},
   "outputs": [],
   "source": [
    "from utils.network import deep_color\n",
    "history=deep_color.fit(train_batch_generator, epochs=200, steps_per_epoch=30)"
   ]
  },
  {
   "cell_type": "code",
   "execution_count": null,
   "id": "dad0660b",
   "metadata": {},
   "outputs": [],
   "source": [
    "plt.plot(history.history['mse'])\n",
    "plt.plot(history.history['mae'])"
   ]
  },
  {
   "cell_type": "code",
   "execution_count": null,
   "id": "260ebc7e",
   "metadata": {},
   "outputs": [],
   "source": [
    "checkpoint_path='./checkpoints/ILSVR2014_weights'\n",
    "savedmodel_path='./saved_model/ILSVR2014'\n",
    "deep_color.save(savedmodel_path)\n",
    "deep_color.save_weights(checkpoint_path)"
   ]
  },
  {
   "cell_type": "markdown",
   "id": "413ada02",
   "metadata": {},
   "source": [
    "# Load Saved Model"
   ]
  },
  {
   "cell_type": "code",
   "execution_count": null,
   "id": "4a9b3496",
   "metadata": {},
   "outputs": [],
   "source": [
    "loaded=tf.keras.models.load_model(savedmodel_path)"
   ]
  },
  {
   "cell_type": "code",
   "execution_count": null,
   "id": "3bc15ec4",
   "metadata": {},
   "outputs": [],
   "source": [
    "record_path = './tfrecords/'\n",
    "train_file = 'train.tfrecords'\n",
    "batch_size = 1 \n",
    "test_generator=batch_reader(batch_size, record_path, train_file)"
   ]
  },
  {
   "cell_type": "code",
   "execution_count": null,
   "id": "5c306dac",
   "metadata": {},
   "outputs": [],
   "source": [
    "test_img=next(test_generator)\n",
    "test_l, test_emb=test_img[0]\n",
    "test_ab=test_img[1]"
   ]
  },
  {
   "cell_type": "code",
   "execution_count": null,
   "id": "e6d5dbc7",
   "metadata": {},
   "outputs": [],
   "source": [
    "test_pred=loaded.predict([test_l,test_emb])"
   ]
  },
  {
   "cell_type": "code",
   "execution_count": null,
   "id": "f2a5cc6b",
   "metadata": {},
   "outputs": [],
   "source": [
    "test_result=tf.concat([test_l*100,test_pred*127], 3)\n",
    "test_result=color.lab2rgb(test_result)\n",
    "test_truth=tf.concat([test_l*100,test_ab*127], 3)\n",
    "test_truth=color.lab2rgb(test_truth)"
   ]
  },
  {
   "cell_type": "code",
   "execution_count": null,
   "id": "9c9013bb",
   "metadata": {},
   "outputs": [],
   "source": [
    "f=plt.figure()\n",
    "f.add_subplot(1,3,1)\n",
    "plt.imshow(test_l[0],cmap='gray')\n",
    "f.add_subplot(1,3,2)\n",
    "plt.imshow(test_result[0])\n",
    "f.add_subplot(1,3,3)\n",
    "plt.imshow(test_truth[0])\n",
    "plt.show()"
   ]
  },
  {
   "cell_type": "code",
   "execution_count": null,
   "id": "646c989b",
   "metadata": {},
   "outputs": [],
   "source": []
  }
 ],
 "metadata": {
  "kernelspec": {
   "display_name": "Python 3",
   "language": "python",
   "name": "python3"
  },
  "language_info": {
   "codemirror_mode": {
    "name": "ipython",
    "version": 3
   },
   "file_extension": ".py",
   "mimetype": "text/x-python",
   "name": "python",
   "nbconvert_exporter": "python",
   "pygments_lexer": "ipython3",
   "version": "3.7.1"
  }
 },
 "nbformat": 4,
 "nbformat_minor": 5
}
