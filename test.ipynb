{
 "cells": [
  {
   "cell_type": "code",
   "execution_count": null,
   "id": "d2c72ff8",
   "metadata": {},
   "outputs": [],
   "source": [
    "from os import listdir, makedirs\n",
    "from os.path import join, isfile, isdir, splitext\n",
    "from PIL import Image\n",
    "import skimage.color as color\n",
    "import numpy as np\n",
    "import matplotlib.pyplot as plt\n",
    "import pandas as pd\n",
    "import tensorflow as tf"
   ]
  },
  {
   "cell_type": "code",
   "execution_count": null,
   "id": "fee3a727",
   "metadata": {},
   "outputs": [],
   "source": [
    "from utils.imgCap import load_images_list\n",
    "from zipfile import ZipFile\n",
    "\n",
    "# Extract Data\n",
    "if not os.path.exists('./Flickr_Data.zip'):\n",
    "    raise Exception('Dataset not found. Please read instructions above this cell and download dataset.')\n",
    "\n",
    "if not os.path.exists('./Flickr_Data'):\n",
    "    print(\"Extracting data ...\")\n",
    "    ZipFile('./Flickr_Data.zip', 'r').extractall('./')\n",
    "\n",
    "#Files with names of corresponding images\n",
    "train_image_list_path = './Flickr_Data/Flickr8k_text/Flickr_8k.trainImages.txt'\n",
    "test_image_list_path = './Flickr_Data/Flickr8k_text/Flickr_8k.testImages.txt'\n",
    "\n",
    "train_image_list = load_images_list(train_image_list_path)\n",
    "test_image_list = load_images_list(test_image_list_path)\n",
    "\n",
    "print('Total train images:',len(train_image_list))\n",
    "print('Total test images:', len(test_image_list))"
   ]
  },
  {
   "cell_type": "code",
   "execution_count": null,
   "id": "2a33ee4e",
   "metadata": {},
   "outputs": [],
   "source": [
    "images_path = './Flickr_Data/Flickr8k_Dataset'\n",
    "filename='667626_18933d713e.jpg'"
   ]
  },
  {
   "cell_type": "code",
   "execution_count": null,
   "id": "5801c064",
   "metadata": {},
   "outputs": [],
   "source": [
    "img=Image.open(join(images_path,filename))\n",
    "f=plt.figure()\n",
    "f.add_subplot(1,2,1)\n",
    "plt.imshow(img)\n",
    "img=img.resize((299,299))\n",
    "f.add_subplot(1,2,2)\n",
    "plt.imshow(img)\n",
    "plt.show()"
   ]
  },
  {
   "cell_type": "markdown",
   "id": "d1bde062",
   "metadata": {},
   "source": [
    "# Resize all Images to 299x299"
   ]
  },
  {
   "cell_type": "code",
   "execution_count": null,
   "id": "324942e4",
   "metadata": {},
   "outputs": [],
   "source": [
    "from utils.resize import ImageResizer\n",
    "images_path = './Flickr_Data/Flickr8k_Dataset'\n",
    "resized_dir='./Flickr_Data/resized'\n",
    "size=(299,299)\n",
    "resizer=ImageResizer(source_dir=images_path,\n",
    "                    dest_dir=resized_dir).resize_all(size=size)"
   ]
  },
  {
   "cell_type": "code",
   "execution_count": null,
   "id": "6bd95b7d",
   "metadata": {},
   "outputs": [],
   "source": [
    "dev_list = './Flickr_Data/Flickr8k_text/Flickr_8k.devImages.txt'\n",
    "test_list = './Flickr_Data/Flickr8k_text/Flickr_8k.testImages.txt'\n",
    "train_list = './Flickr_Data/Flickr8k_text/Flickr_8k.trainImages.txt'"
   ]
  },
  {
   "cell_type": "markdown",
   "id": "ce0221b8",
   "metadata": {},
   "source": [
    "# Convert to Incep-Resnet-v2 records"
   ]
  },
  {
   "cell_type": "code",
   "execution_count": null,
   "id": "4d244186",
   "metadata": {},
   "outputs": [],
   "source": [
    "from tensorflow.python.client import device_lib \n",
    "print(device_lib.list_local_devices())"
   ]
  },
  {
   "cell_type": "code",
   "execution_count": null,
   "id": "44c0b4f8",
   "metadata": {},
   "outputs": [],
   "source": [
    "from utils.prep import prep_for_inception, RGB_to_lab\n",
    "\n",
    "train1=join(resized_dir,'2903617548_d3e38d7f88.jpg')\n",
    "img1=Image.open(train1)\n",
    "f=plt.figure(figsize=(10,10))\n",
    "f.add_subplot(1,5,1)\n",
    "plt.imshow(img1)\n",
    "incep_img=prep_for_inception(np.asarray(img1))\n",
    "f.add_subplot(1,5,2)\n",
    "plt.imshow(incep_img[0])\n",
    "l_img,ab_img=RGB_to_lab(np.asarray(img1))\n",
    "f.add_subplot(1,5,3)\n",
    "plt.imshow(l_img[0],cmap='gray')\n",
    "f.add_subplot(1,5,4)\n",
    "plt.imshow(ab_img[0,:,:,0]*127)\n",
    "f.add_subplot(1,5,5)\n",
    "plt.imshow(ab_img[0,:,:,1]*127)"
   ]
  },
  {
   "cell_type": "code",
   "execution_count": null,
   "id": "5eb785a1",
   "metadata": {},
   "outputs": [],
   "source": [
    "from utils.tfrecord_writer import tfrecordwriter\n",
    "dev_list = './Flickr_Data/Flickr8k_text/Flickr_8k.devImages.txt'\n",
    "resized_dir = './Flickr_Data/resized'\n",
    "img_list = dev_list\n",
    "record_path = './tfrecords/'\n",
    "file_name='dev.tfrecords'\n",
    "tfrecordwriter(resized_dir, img_list, record_path, file_name)"
   ]
  },
  {
   "cell_type": "code",
   "execution_count": null,
   "id": "e4c57649",
   "metadata": {},
   "outputs": [],
   "source": [
    "from utils.tfrecord_writer import tfrecordwriter\n",
    "test_list = './Flickr_Data/Flickr8k_text/Flickr_8k.testImages.txt'\n",
    "resized_dir = './Flickr_Data/resized'\n",
    "img_list = test_list\n",
    "record_path = './tfrecords/'\n",
    "file_name='test.tfrecords'\n",
    "tfrecordwriter(resized_dir, img_list, record_path, file_name)"
   ]
  },
  {
   "cell_type": "code",
   "execution_count": null,
   "id": "329199d3",
   "metadata": {},
   "outputs": [],
   "source": [
    "from utils.tfrecord_writer import tfrecordwriter\n",
    "train_list = './Flickr_Data/Flickr8k_text/Flickr_8k.trainImages.txt'\n",
    "resized_dir = './Flickr_Data/resized'\n",
    "img_list = train_list\n",
    "record_path = './tfrecords/'\n",
    "file_name='train.tfrecords'\n",
    "tfrecordwriter(resized_dir, img_list, record_path, file_name)"
   ]
  },
  {
   "cell_type": "markdown",
   "id": "c3075fe8",
   "metadata": {},
   "source": [
    "# Read From tfrecord"
   ]
  },
  {
   "cell_type": "code",
   "execution_count": null,
   "id": "1c774cba",
   "metadata": {},
   "outputs": [],
   "source": [
    "from utils.tfrecord_reader import batch_reader\n",
    "record_path = './tfrecords/'\n",
    "record_file = 'train.tfrecords'\n",
    "batch_size = 1\n",
    "train_batch_generator = batch_reader(batch_size, record_path, record_file)"
   ]
  },
  {
   "cell_type": "code",
   "execution_count": null,
   "id": "fbc8db72",
   "metadata": {},
   "outputs": [],
   "source": [
    "train_batch=next(train_batch_generator)\n",
    "plt.imshow(train_batch[0][0][0],cmap='gray')"
   ]
  },
  {
   "cell_type": "markdown",
   "id": "d03f3ad6",
   "metadata": {},
   "source": [
    "# Train model"
   ]
  },
  {
   "cell_type": "code",
   "execution_count": null,
   "id": "c9e44353",
   "metadata": {},
   "outputs": [],
   "source": [
    "from utils.tfrecord_reader import batch_reader\n",
    "record_path = './tfrecords/'\n",
    "record_file = 'train.tfrecords'\n",
    "batch_size = 1\n",
    "generator=batch_reader(batch_size, record_path, record_file)"
   ]
  },
  {
   "cell_type": "code",
   "execution_count": null,
   "id": "b5c229ed",
   "metadata": {},
   "outputs": [],
   "source": [
    "from utils.network import deep_color\n",
    "deep_color.fit(generator, epochs=10, steps_per_epoch=30)"
   ]
  },
  {
   "cell_type": "markdown",
   "id": "a046e4b3",
   "metadata": {},
   "source": [
    "# Get test case"
   ]
  },
  {
   "cell_type": "code",
   "execution_count": null,
   "id": "7750014b",
   "metadata": {},
   "outputs": [],
   "source": [
    "record_path = './tfrecords/'\n",
    "test_file = 'test.tfrecords'\n",
    "batch_size = 1\n",
    "test_generator=batch_reader(batch_size, record_path, test_file)"
   ]
  },
  {
   "cell_type": "code",
   "execution_count": null,
   "id": "51dc9f01",
   "metadata": {},
   "outputs": [],
   "source": [
    "test_img=next(test_generator)\n",
    "test_l, test_emb=test_img[0]\n",
    "test_ab=test_img[1]"
   ]
  },
  {
   "cell_type": "code",
   "execution_count": null,
   "id": "bafb68f6",
   "metadata": {},
   "outputs": [],
   "source": [
    "test_pred=deep_color.predict(test_img[0])"
   ]
  },
  {
   "cell_type": "code",
   "execution_count": null,
   "id": "ee1a31b4",
   "metadata": {},
   "outputs": [],
   "source": [
    "test_result=tf.concat([test_l,test_pred], 3)\n",
    "test_result=color.lab2rgb(test_result)\n",
    "test_truth=tf.concat([test_l,test_ab], 3)\n",
    "test_truth=color.lab2rgb(test_truth)"
   ]
  },
  {
   "cell_type": "code",
   "execution_count": null,
   "id": "aeef875c",
   "metadata": {},
   "outputs": [],
   "source": [
    "f=plt.figure()\n",
    "f.add_subplot(1,3,1)\n",
    "plt.imshow(test_l[0],cmap='gray')\n",
    "f.add_subplot(1,3,2)\n",
    "plt.imshow(test_result[0])\n",
    "f.add_subplot(1,3,3)\n",
    "plt.imshow(test_truth[0])\n",
    "plt.show()"
   ]
  },
  {
   "cell_type": "code",
   "execution_count": null,
   "id": "9da84f05",
   "metadata": {},
   "outputs": [],
   "source": []
  }
 ],
 "metadata": {
  "kernelspec": {
   "display_name": "Python 3",
   "language": "python",
   "name": "python3"
  },
  "language_info": {
   "codemirror_mode": {
    "name": "ipython",
    "version": 3
   },
   "file_extension": ".py",
   "mimetype": "text/x-python",
   "name": "python",
   "nbconvert_exporter": "python",
   "pygments_lexer": "ipython3",
   "version": "3.7.1"
  }
 },
 "nbformat": 4,
 "nbformat_minor": 5
}
